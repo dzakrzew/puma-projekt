{
 "cells": [
  {
   "cell_type": "markdown",
   "id": "92c0f035",
   "metadata": {},
   "source": [
    "## Podstawy Uczenia Maszynowego – Projekt\n",
    "### Rozpoznawanie nadużyć w transakcjach płatniczych na podstawie fizycznych okoliczności ich wykonania\n",
    "#### Autorzy: Kacper Korecki, Dominik Zakrzewski, Konrad Zbylut"
   ]
  },
  {
   "cell_type": "markdown",
   "id": "57969e07",
   "metadata": {},
   "source": [
    "## Wprowadzenie"
   ]
  },
  {
   "cell_type": "markdown",
   "id": "caeecbc7",
   "metadata": {},
   "source": [
    "Celem naszego projektu jest analiza obszernego zbioru transakcji płatniczych za pomocą kilku wybranych algorytmów dla porównania ich charakterystyki i otrzymanych wyników."
   ]
  },
  {
   "cell_type": "code",
   "execution_count": null,
   "id": "42123dfc",
   "metadata": {},
   "outputs": [],
   "source": [
    "import numpy as np\n",
    "import pandas as pd\n",
    "import matplotlib.pyplot as plt\n",
    "from sklearn import tree\n",
    "from sklearn.model_selection import train_test_split"
   ]
  },
  {
   "cell_type": "markdown",
   "id": "26b879d7",
   "metadata": {},
   "source": [
    "Wczytujemy zbiór danych z pliku CSV."
   ]
  },
  {
   "cell_type": "code",
   "execution_count": null,
   "id": "39ab979a",
   "metadata": {},
   "outputs": [],
   "source": [
    "data = pd.read_csv('card_transdata.csv', delimiter=',')"
   ]
  },
  {
   "cell_type": "code",
   "execution_count": null,
   "id": "e5de3eef",
   "metadata": {},
   "outputs": [],
   "source": [
    "df = pd.DataFrame(data)\n",
    "df.describe()"
   ]
  },
  {
   "cell_type": "markdown",
   "id": "54d62f5e",
   "metadata": {},
   "source": [
    "Ponadto sprawdzamy stosunek transakcji oznaczonych jako nadużycia (y=1.0) do liczby wszystkich transakcji w zbiorze"
   ]
  },
  {
   "cell_type": "code",
   "execution_count": null,
   "id": "7aebb3fa",
   "metadata": {},
   "outputs": [],
   "source": [
    "data_np = df.to_numpy()"
   ]
  },
  {
   "cell_type": "code",
   "execution_count": null,
   "id": "200964f9",
   "metadata": {},
   "outputs": [],
   "source": [
    "total_fraud_transactions = np.sum(data_np[:, 7])\n",
    "print(\"Percentage of fraud transactions:\", total_fraud_transactions / data_np.shape[0] * 100, \"%\")"
   ]
  },
  {
   "cell_type": "markdown",
   "id": "d83b1be5",
   "metadata": {},
   "source": [
    "Jak widzimy różnorodność jest dla nas niezadowalająco niska, gdyż większość transakcji stanowią \"normalne\" transakcje. Stąd też mamy potrzebę dostosowania zbioru tak, by lepiej trenowały się na nim modele"
   ]
  },
  {
   "cell_type": "markdown",
   "id": "2c273f7a",
   "metadata": {},
   "source": [
    "#### zrobi sie potem"
   ]
  },
  {
   "cell_type": "markdown",
   "id": "7e5af75d",
   "metadata": {},
   "source": [
    "Dokonujemy podziału na zbiory X i y"
   ]
  },
  {
   "cell_type": "code",
   "execution_count": null,
   "id": "0b9b72e5",
   "metadata": {},
   "outputs": [],
   "source": [
    "X = data_np[:, :-1]\n",
    "y = data_np[:, -1]"
   ]
  },
  {
   "cell_type": "markdown",
   "id": "6258f7d8",
   "metadata": {},
   "source": [
    "## Naiwny klasyfikator Bayesa"
   ]
  },
  {
   "cell_type": "code",
   "execution_count": null,
   "id": "d1c677bf",
   "metadata": {},
   "outputs": [],
   "source": [
    "from sklearn.naive_bayes import GaussianNB, ComplementNB, BernoulliNB, MultinomialNB"
   ]
  },
  {
   "cell_type": "code",
   "execution_count": null,
   "id": "d52ab1de",
   "metadata": {},
   "outputs": [],
   "source": [
    "X_train, X_test, y_train, y_test = train_test_split(X, y, test_size=0.3, random_state=1)"
   ]
  },
  {
   "cell_type": "code",
   "execution_count": null,
   "id": "5941218e",
   "metadata": {},
   "outputs": [],
   "source": [
    "gaussian_nb_model = GaussianNB().fit(X_train, y_train)\n",
    "\n",
    "gaussian_nb_train_sc = gaussian_nb_model.score(X_train, y_train)\n",
    "gaussian_nb_test_sc = gaussian_nb_model.score(X_test, y_test)\n",
    "\n",
    "print('Train accuracy: {}'.format(gaussian_nb_train_sc))\n",
    "print('Test accuracy: {}'.format(gaussian_nb_test_sc))"
   ]
  },
  {
   "cell_type": "code",
   "execution_count": null,
   "id": "3d97dad3",
   "metadata": {},
   "outputs": [],
   "source": [
    "complement_nb_model = ComplementNB().fit(X_train, y_train)\n",
    "\n",
    "complement_nb_train_sc = complement_nb_model.score(X_train, y_train)\n",
    "complement_nb_test_sc = complement_nb_model.score(X_test, y_test)\n",
    "\n",
    "print('Train accuracy: {}'.format(complement_nb_train_sc))\n",
    "print('Test accuracy: {}'.format(complement_nb_test_sc))"
   ]
  },
  {
   "cell_type": "code",
   "execution_count": null,
   "id": "abe7fabf",
   "metadata": {},
   "outputs": [],
   "source": [
    "bernoulli_nb_model = BernoulliNB().fit(X_train, y_train)\n",
    "\n",
    "bernoulli_nb_train_sc = bernoulli_nb_model.score(X_train, y_train)\n",
    "bernoulli_nb_test_sc = bernoulli_nb_model.score(X_test, y_test)\n",
    "\n",
    "print('Train accuracy: {}'.format(bernoulli_nb_train_sc))\n",
    "print('Test accuracy: {}'.format(bernoulli_nb_test_sc))"
   ]
  },
  {
   "cell_type": "code",
   "execution_count": null,
   "id": "9c94f320",
   "metadata": {
    "scrolled": true
   },
   "outputs": [],
   "source": [
    "multinomial_nb_model = MultinomialNB().fit(X_train, y_train)\n",
    "\n",
    "multinomial_nb_train_sc = multinomial_nb_model.score(X_train, y_train)\n",
    "multinomial_nb_test_sc = multinomial_nb_model.score(X_test, y_test)\n",
    "\n",
    "print('Train accuracy: {}'.format(multinomial_nb_train_sc))\n",
    "print('Test accuracy: {}'.format(multinomial_nb_test_sc))"
   ]
  },
  {
   "cell_type": "code",
   "execution_count": null,
   "id": "56391758",
   "metadata": {},
   "outputs": [],
   "source": [
    "from sklearn.metrics import ConfusionMatrixDisplay, classification_report"
   ]
  },
  {
   "cell_type": "code",
   "execution_count": null,
   "id": "f39272d6",
   "metadata": {},
   "outputs": [],
   "source": [
    "preds = gaussian_nb_model.predict(X_test)\n",
    "cm = ConfusionMatrixDisplay.from_predictions(y_test, preds)\n",
    "cm.ax_.set_title('Gaussian NB Confusion Matrix')\n",
    "plt.show()\n",
    "print(classification_report(y_test, preds))"
   ]
  },
  {
   "cell_type": "code",
   "execution_count": null,
   "id": "e64240fa",
   "metadata": {},
   "outputs": [],
   "source": []
  }
 ],
 "metadata": {
  "kernelspec": {
   "display_name": "Python 3 (ipykernel)",
   "language": "python",
   "name": "python3"
  },
  "language_info": {
   "codemirror_mode": {
    "name": "ipython",
    "version": 3
   },
   "file_extension": ".py",
   "mimetype": "text/x-python",
   "name": "python",
   "nbconvert_exporter": "python",
   "pygments_lexer": "ipython3",
   "version": "3.8.10"
  }
 },
 "nbformat": 4,
 "nbformat_minor": 5
}
